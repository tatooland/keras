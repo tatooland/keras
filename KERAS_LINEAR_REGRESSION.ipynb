{
  "nbformat": 4,
  "nbformat_minor": 0,
  "metadata": {
    "colab": {
      "name": "KERAS_LINEAR_REGRESSION.ipynb",
      "version": "0.3.2",
      "provenance": [],
      "collapsed_sections": [],
      "include_colab_link": true
    },
    "kernelspec": {
      "name": "python3",
      "display_name": "Python 3"
    },
    "accelerator": "TPU"
  },
  "cells": [
    {
      "cell_type": "markdown",
      "metadata": {
        "id": "view-in-github",
        "colab_type": "text"
      },
      "source": [
        "<a href=\"https://colab.research.google.com/github/tatooland/keras/blob/master/KERAS_LINEAR_REGRESSION.ipynb\" target=\"_parent\"><img src=\"https://colab.research.google.com/assets/colab-badge.svg\" alt=\"Open In Colab\"/></a>"
      ]
    },
    {
      "cell_type": "code",
      "metadata": {
        "id": "-4Rr7WoQYcn4",
        "colab_type": "code",
        "outputId": "b1361d5e-aab3-492f-e57c-d63ea4e6e3a0",
        "colab": {
          "base_uri": "https://localhost:8080/",
          "height": 725
        }
      },
      "source": [
        "import matplotlib.pyplot as plt\n",
        "\n",
        "import numpy as np\n",
        "\n",
        "from keras.models import Sequential\n",
        "from keras.layers import Dense, Dropout\n",
        "from keras.optimizers import SGD\n",
        "\n",
        "#create some data\n",
        "x = np.linspace(-1, 1, 200)\n",
        "np.random.shuffle(x)\n",
        "\n",
        "y = x ** 2  + 10# + np.random.normal(0, .05, (200, ))\n",
        "plt.scatter(x, y) #plot\n",
        "plt.show()\n",
        "\n",
        "#assort the data to train data and test data\n",
        "\n",
        "\n",
        "x_train, y_train = x[:160], y[:160]\n",
        "x_test, y_test = x[160:], y[160:]\n",
        "\n",
        "#create MLP model\n",
        "model = Sequential()\n",
        "model.add(Dense(4, activation='tanh', input_dim=1))\n",
        "model.add(Dense(4, input_dim=4, activation='tanh'))\n",
        "model.add(Dense(4, input_dim=4, activation='tanh'))\n",
        "model.add(Dense(4, input_dim=4, activation='tanh'))\n",
        "\n",
        "#model.add(Dropout(.2))\n",
        "'''\n",
        "model.add(Dense(64, activation='sigmoid', use_bias=True))\n",
        "model.add(Dense(32, activation='sigmoid', use_bias=True))\n",
        "model.add(Dense(16, activation='sigmoid', use_bias=True))\n",
        "model.add(Dense(8, activation='sigmoid', use_bias=True))\n",
        "model.add(Dense(4, activation='sigmoid', use_bias=True))\n",
        "'''\n",
        "model.add(Dense(1))\n",
        "\n",
        "#model.add(Dropout(.2))\n",
        "#model.add(Dense(1, activation='relu'))\n",
        "\n",
        "\n",
        "#sgd = SGD(lr=.01, decay=1e-6, momentum=.9, nesterov=True)\n",
        "model.compile(loss='mse', optimizer='sgd')\n",
        "\n",
        "for step in range(10000):\n",
        "  cost = model.train_on_batch(x_train, y_train)\n",
        "  if step % 1000 == 0:\n",
        "      print(\"train cost: \", cost)\n",
        "\n",
        "#model.fit(x_train, y_train, epochs=10000, batch_size=160)\n",
        "score = model.evaluate(x_test, y_test, batch_size=40)\n",
        "print(\"score:\", cost)\n",
        "#W, B = model.layers[0].get_weights()\n",
        "#print(W, B)\n",
        "\n",
        "\n",
        "y_pred = model.predict(x_test)\n",
        "plt.scatter(x_test, y_test, color='red')\n",
        "plt.scatter(x_test, y_pred)\n",
        "plt.show()\n",
        "\n",
        "\n",
        "\n",
        "\n",
        "\n"
      ],
      "execution_count": 32,
      "outputs": [
        {
          "output_type": "display_data",
          "data": {
            "image/png": "[encoded data removed]",
            "text/plain": [
              "<Figure size 432x288 with 1 Axes>"
            ]
          },
          "metadata": {
            "tags": []
          }
        },
        {
          "output_type": "stream",
          "text": [
            "train cost:  106.71211\n",
            "train cost:  0.090083614\n",
            "train cost:  0.057850875\n",
            "train cost:  0.0034904983\n",
            "train cost:  0.002104888\n",
            "train cost:  0.0014142485\n",
            "train cost:  0.0010147388\n",
            "train cost:  0.00075922906\n",
            "train cost:  0.0005844251\n",
            "train cost:  0.00045910903\n",
            "40/40 [==============================] - 0s 11ms/step\n",
            "score: 0.0003662611\n"
          ],
          "name": "stdout"
        },
        {
          "output_type": "display_data",
          "data": {
            "image/png": "[encoded data removed]",
            "text/plain": [
              "<Figure size 432x288 with 1 Axes>"
            ]
          },
          "metadata": {
            "tags": []
          }
        }
      ]
    }
  ]
}